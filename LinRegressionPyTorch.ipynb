{
 "cells": [
  {
   "cell_type": "code",
   "execution_count": 125,
   "id": "48ea94a2-352b-4deb-8449-a4226d6a97a0",
   "metadata": {},
   "outputs": [
    {
     "name": "stdout",
     "output_type": "stream",
     "text": [
      "2.3.0.post100\n",
      "0.15.2a0\n"
     ]
    }
   ],
   "source": [
    "import torch.nn as nn\n",
    "import numpy as np\n",
    "import torchvision\n",
    "print(torch.__version__)\n",
    "print(torchvision.__version__)"
   ]
  },
  {
   "cell_type": "code",
   "execution_count": 9,
   "id": "ac838fd2-bd31-4c96-9aad-c85bb5dd4300",
   "metadata": {},
   "outputs": [],
   "source": [
    "x = torch.tensor(2.0, requires_grad=True)"
   ]
  },
  {
   "cell_type": "code",
   "execution_count": 21,
   "id": "6d95cdc2-617a-489c-8a55-ae10c51124c6",
   "metadata": {},
   "outputs": [
    {
     "name": "stdout",
     "output_type": "stream",
     "text": [
      "tensor(63., grad_fn=<AddBackward0>)\n"
     ]
    }
   ],
   "source": [
    "y = 2*x**4 + x**3 + 3*x**2 + 5*x + 1\n",
    "print(y)"
   ]
  },
  {
   "cell_type": "code",
   "execution_count": 23,
   "id": "e4c10cf2-fdc1-4392-ba9d-ff7db07c58c2",
   "metadata": {},
   "outputs": [],
   "source": [
    "y.backward()"
   ]
  },
  {
   "cell_type": "code",
   "execution_count": 25,
   "id": "407c0d33-b050-442b-b979-db38be2b2661",
   "metadata": {},
   "outputs": [
    {
     "name": "stdout",
     "output_type": "stream",
     "text": [
      "tensor(93.)\n"
     ]
    }
   ],
   "source": [
    "print(x.grad)  #slope of the polynomial at the point 2,63"
   ]
  },
  {
   "cell_type": "code",
   "execution_count": 27,
   "id": "6b014ff6-3700-4fa9-9a16-5b6511b9d0e5",
   "metadata": {},
   "outputs": [
    {
     "name": "stdout",
     "output_type": "stream",
     "text": [
      "tensor([[1., 2., 3.],\n",
      "        [3., 2., 1.]], requires_grad=True)\n"
     ]
    }
   ],
   "source": [
    "x = torch.tensor([[1.,2,3],[3,2,1]], requires_grad=True)\n",
    "print(x)"
   ]
  },
  {
   "cell_type": "code",
   "execution_count": 31,
   "id": "50cafa60-d08e-46a4-8fc2-02f91c69a188",
   "metadata": {},
   "outputs": [
    {
     "name": "stdout",
     "output_type": "stream",
     "text": [
      "tensor([[ 5.,  8., 11.],\n",
      "        [11.,  8.,  5.]], grad_fn=<AddBackward0>)\n"
     ]
    }
   ],
   "source": [
    "y = 3*x + 2\n",
    "print(y) #first tensor layer"
   ]
  },
  {
   "cell_type": "code",
   "execution_count": 37,
   "id": "8def948c-08bc-4c75-b514-6f59feea9a91",
   "metadata": {},
   "outputs": [
    {
     "name": "stdout",
     "output_type": "stream",
     "text": [
      "tensor([[ 50., 128., 242.],\n",
      "        [242., 128.,  50.]], grad_fn=<MulBackward0>)\n"
     ]
    }
   ],
   "source": [
    "z = 2*y**2\n",
    "print(z)    #second layer"
   ]
  },
  {
   "cell_type": "code",
   "execution_count": 39,
   "id": "4a3af955-994c-44bd-a989-69c48f6f3fef",
   "metadata": {},
   "outputs": [
    {
     "name": "stdout",
     "output_type": "stream",
     "text": [
      "tensor(140., grad_fn=<MeanBackward0>)\n"
     ]
    }
   ],
   "source": [
    "out = z.mean()\n",
    "print(out)"
   ]
  },
  {
   "cell_type": "code",
   "execution_count": 41,
   "id": "6669b572-f802-4586-a9b7-8a6c88028511",
   "metadata": {},
   "outputs": [
    {
     "name": "stdout",
     "output_type": "stream",
     "text": [
      "tensor([[10., 16., 22.],\n",
      "        [22., 16., 10.]])\n"
     ]
    }
   ],
   "source": [
    "out.backward()\n",
    "print(x.grad)"
   ]
  },
  {
   "cell_type": "code",
   "execution_count": 45,
   "id": "92f33de8-9f0e-4c36-b667-6b6c8ca6e11b",
   "metadata": {},
   "outputs": [],
   "source": [
    "import matplotlib.pyplot as plt\n",
    "%matplotlib inline"
   ]
  },
  {
   "cell_type": "code",
   "execution_count": 49,
   "id": "cf872260-cd9e-419f-a7d2-3529a2725802",
   "metadata": {},
   "outputs": [],
   "source": [
    "#over all goal minimize the error between model and data using loss function mean-squared-error\n",
    "X = torch.linspace(1,50,50).reshape(-1,1)  #create tensor but without gradient"
   ]
  },
  {
   "cell_type": "code",
   "execution_count": 51,
   "id": "94f042c1-dfc7-40c5-a652-f34238f91d16",
   "metadata": {},
   "outputs": [
    {
     "name": "stdout",
     "output_type": "stream",
     "text": [
      "tensor(0.)\n"
     ]
    }
   ],
   "source": [
    "torch.manual_seed(71) # to obtain reproducible results\n",
    "e = torch.randint(-8,9,(50,1),dtype=torch.float)\n",
    "print(e.sum())"
   ]
  },
  {
   "cell_type": "code",
   "execution_count": 53,
   "id": "794bca04-3dd1-4c37-951e-35598fc2a948",
   "metadata": {},
   "outputs": [
    {
     "name": "stdout",
     "output_type": "stream",
     "text": [
      "torch.Size([50, 1])\n"
     ]
    }
   ],
   "source": [
    "y = 2*X + 1 + e\n",
    "print(y.shape)  "
   ]
  },
  {
   "cell_type": "code",
   "execution_count": 55,
   "id": "20dd10da-7278-46e1-b7ce-83365b3fc3d2",
   "metadata": {},
   "outputs": [
    {
     "data": {
      "image/png": "[encoded data removed]",
      "text/plain": [
       "<Figure size 640x480 with 1 Axes>"
      ]
     },
     "metadata": {},
     "output_type": "display_data"
    }
   ],
   "source": [
    "plt.scatter(X.numpy(), y.numpy())\n",
    "plt.ylabel('y')\n",
    "plt.xlabel('x');"
   ]
  },
  {
   "cell_type": "code",
   "execution_count": null,
   "id": "b624a22f-eb9f-49d0-a098-43c23cd33d85",
   "metadata": {},
   "outputs": [],
   "source": [
    "#X doesn't have gradient so can't get backwards y fxn, use nn.Linear() to predict relationship instead "
   ]
  },
  {
   "cell_type": "code",
   "execution_count": 181,
   "id": "14e3f0e7-36f4-4b8b-a5a4-c98d03763c28",
   "metadata": {},
   "outputs": [
    {
     "name": "stdout",
     "output_type": "stream",
     "text": [
      "Parameter containing:\n",
      "tensor([[-0.4078]], requires_grad=True)\n",
      "Parameter containing:\n",
      "tensor([0.0331], requires_grad=True)\n"
     ]
    }
   ],
   "source": [
    "torch.manual_seed(123)\n",
    "model = nn.Linear(in_features=1, out_features=1)\n",
    "print(model.weight)\n",
    "print(model.bias)"
   ]
  },
  {
   "cell_type": "code",
   "execution_count": 183,
   "id": "4b14a2ec-5a58-4064-b6f6-7289bdee2371",
   "metadata": {},
   "outputs": [],
   "source": [
    "class Model(nn.Module):\n",
    "    def __init__(self, in_features, out_features):\n",
    "        super().__init__()\n",
    "        self.linear = nn.Linear(in_features, out_features) #doesn't refer to linear regression, its nn related\n",
    "    def forward(self, x):   #method defines how the data flows through the model\n",
    "        y_pred = self.linear(x)\n",
    "        return y_pred"
   ]
  },
  {
   "cell_type": "code",
   "execution_count": 185,
   "id": "0bfae620-b9f1-4225-a33c-8236da8feef9",
   "metadata": {},
   "outputs": [],
   "source": [
    "class Model(nn.Module):\n",
    "    def __init__(self, in_features, out_features):\n",
    "        super().__init__()\n",
    "        self.linear = nn.Linear(in_features, out_features)  # Define the linear layer\n",
    "\n",
    "    def forward(self, x):\n",
    "        y_pred = self.linear(x)  # Define the forward pass\n",
    "        return y_pred"
   ]
  },
  {
   "cell_type": "code",
   "execution_count": 187,
   "id": "76cea8d8-89de-48fb-84c7-9f7c841e84c1",
   "metadata": {},
   "outputs": [
    {
     "name": "stdout",
     "output_type": "stream",
     "text": [
      "Model(\n",
      "  (linear): Linear(in_features=1, out_features=1, bias=True)\n",
      ")\n",
      "Weight: -0.4077761173248291\n",
      "Bias:   0.033124566078186035\n"
     ]
    }
   ],
   "source": [
    "torch.manual_seed(123)\n",
    "model = Model(1, 1)  #1 input feature, 1 output feature \n",
    "print(model)\n",
    "print('Weight:', model.linear.weight.item())\n",
    "print('Bias:  ', model.linear.bias.item())"
   ]
  },
  {
   "cell_type": "code",
   "execution_count": 189,
   "id": "ccb7cf4e-f023-48d1-b21c-d2d64716b4c8",
   "metadata": {},
   "outputs": [
    {
     "name": "stdout",
     "output_type": "stream",
     "text": [
      "linear.weight \t -0.4077761173248291\n",
      "linear.bias \t 0.033124566078186035\n"
     ]
    }
   ],
   "source": [
    "for name, param in model.named_parameters():\n",
    "    print(name, '\\t', param.item())"
   ]
  },
  {
   "cell_type": "code",
   "execution_count": 191,
   "id": "040cf796-1b0e-4b81-8338-ff4224cdce96",
   "metadata": {},
   "outputs": [],
   "source": [
    "#pass tensor into the model "
   ]
  },
  {
   "cell_type": "code",
   "execution_count": 193,
   "id": "572cb058-e6b7-4e1a-aa26-e2076880a4ba",
   "metadata": {},
   "outputs": [
    {
     "name": "stdout",
     "output_type": "stream",
     "text": [
      "tensor([-0.7824], grad_fn=<ViewBackward0>)\n"
     ]
    }
   ],
   "source": [
    "x = torch.tensor([2.0])\n",
    "print(model.forward(x))   # equivalent to print(model(x))"
   ]
  },
  {
   "cell_type": "code",
   "execution_count": 195,
   "id": "65db67c5-be04-4874-820c-958080a69155",
   "metadata": {},
   "outputs": [],
   "source": [
    "#plot initial model "
   ]
  },
  {
   "cell_type": "code",
   "execution_count": 197,
   "id": "0f07101e-0e75-4b48-9af6-f9b400ae44f6",
   "metadata": {},
   "outputs": [
    {
     "name": "stdout",
     "output_type": "stream",
     "text": [
      "[ 1. 50.]\n"
     ]
    }
   ],
   "source": [
    "x1 = np.array([X.min(),X.max()])\n",
    "print(x1)"
   ]
  },
  {
   "cell_type": "code",
   "execution_count": 199,
   "id": "3d91f56e-401e-466a-a292-6bb058c16e34",
   "metadata": {},
   "outputs": [
    {
     "name": "stdout",
     "output_type": "stream",
     "text": [
      "Initial weight: -0.40777612, Initial bias: 0.03312457\n",
      "\n",
      "[ -0.37465155 -20.35568   ]\n"
     ]
    }
   ],
   "source": [
    "w1,b1 = model.linear.weight.item(), model.linear.bias.item()\n",
    "print(f'Initial weight: {w1:.8f}, Initial bias: {b1:.8f}')\n",
    "print()\n",
    "\n",
    "y1 = x1*w1 + b1\n",
    "print(y1)"
   ]
  },
  {
   "cell_type": "code",
   "execution_count": 201,
   "id": "b4fcd174-60e7-405d-8073-2f0630a01079",
   "metadata": {},
   "outputs": [
    {
     "data": {
      "image/png": "[encoded data removed]",
      "text/plain": [
       "<Figure size 640x480 with 1 Axes>"
      ]
     },
     "metadata": {},
     "output_type": "display_data"
    }
   ],
   "source": [
    "plt.scatter(X.numpy(), y.numpy())\n",
    "plt.plot(x1,y1,'r')\n",
    "plt.title('Initial Model')\n",
    "plt.ylabel('y')\n",
    "plt.xlabel('x');"
   ]
  },
  {
   "cell_type": "code",
   "execution_count": 203,
   "id": "8f38117f-9e5a-4187-b477-6ecc7c1957b6",
   "metadata": {},
   "outputs": [],
   "source": [
    "criterion = nn.MSELoss()"
   ]
  },
  {
   "cell_type": "code",
   "execution_count": 205,
   "id": "e53f93f7-e2a3-478f-adb2-f0178a687e50",
   "metadata": {},
   "outputs": [],
   "source": [
    "optimizer = torch.optim.SGD(model.parameters(), lr = 0.001) # stochastic gradient descent with\n",
    "#applied learning rate (lr) of 0.001"
   ]
  },
  {
   "cell_type": "code",
   "execution_count": 207,
   "id": "9675a64e-fd87-4409-81df-ebec0269ebe1",
   "metadata": {},
   "outputs": [
    {
     "name": "stdout",
     "output_type": "stream",
     "text": [
      "epoch:  1  loss: 5057.90136719  weight: -0.40777612  bias: 0.03312457\n",
      "epoch:  2  loss: 2621.83251953  weight: 3.75072598  bias: 0.15785491\n",
      "epoch:  3  loss: 1364.17724609  weight: 0.76271904  bias: 0.07025218\n",
      "epoch:  4  loss: 714.89428711  weight: 2.90958762  bias: 0.13521300\n",
      "epoch:  5  loss: 379.69201660  weight: 1.36696982  bias: 0.09055360\n",
      "epoch:  6  loss: 206.63841248  weight: 2.47530437  bias: 0.12465703\n",
      "epoch:  7  loss: 117.29640961  weight: 1.67888927  bias: 0.10216720\n",
      "epoch:  8  loss: 71.17169189  weight: 2.25106597  bias: 0.12033951\n",
      "epoch:  9  loss: 47.35845566  weight: 1.83988845  bias: 0.10929446\n",
      "epoch: 10  loss: 35.06388855  weight: 2.13526607  bias: 0.11924156\n",
      "epoch: 11  loss: 28.71597481  weight: 1.92297292  bias: 0.11410451\n",
      "epoch: 12  loss: 25.43810081  weight: 2.07544899  bias: 0.11980468\n",
      "epoch: 13  loss: 23.74520493  weight: 1.96583307  bias: 0.11771718\n",
      "epoch: 14  loss: 22.87056160  weight: 2.04453421  bias: 0.12122425\n",
      "epoch: 15  loss: 22.41835022  weight: 1.98792660  bias: 0.12071056\n",
      "epoch: 16  loss: 22.18423843  weight: 2.02854037  bias: 0.12308488\n",
      "epoch: 17  loss: 22.06271935  weight: 1.99929917  bias: 0.12338315\n",
      "epoch: 18  loss: 21.99932671  weight: 2.02025008  bias: 0.12517212\n",
      "epoch: 19  loss: 21.96594238  weight: 2.00513673  bias: 0.12588902\n",
      "epoch: 20  loss: 21.94804764  weight: 2.01593661  bias: 0.12737526\n",
      "epoch: 21  loss: 21.93815422  weight: 2.00811744  bias: 0.12830774\n",
      "epoch: 22  loss: 21.93239784  weight: 2.01367593  bias: 0.12963714\n",
      "epoch: 23  loss: 21.92876625  weight: 2.00962281  bias: 0.13068038\n",
      "epoch: 24  loss: 21.92624283  weight: 2.01247573  bias: 0.13192825\n",
      "epoch: 25  loss: 21.92428207  weight: 2.01036668  bias: 0.13302813\n",
      "epoch: 26  loss: 21.92262268  weight: 2.01182270  bias: 0.13423339\n",
      "epoch: 27  loss: 21.92111778  weight: 2.01071739  bias: 0.13536197\n",
      "epoch: 28  loss: 21.91968536  weight: 2.01145220  bias: 0.13654466\n",
      "epoch: 29  loss: 21.91829681  weight: 2.01086497  bias: 0.13768750\n",
      "epoch: 30  loss: 21.91693306  weight: 2.01122785  bias: 0.13885802\n",
      "epoch: 31  loss: 21.91557884  weight: 2.01090789  bias: 0.14000769\n",
      "epoch: 32  loss: 21.91422844  weight: 2.01107860  bias: 0.14117138\n",
      "epoch: 33  loss: 21.91289139  weight: 2.01089692  bias: 0.14232403\n",
      "epoch: 34  loss: 21.91154861  weight: 2.01096821  bias: 0.14348364\n",
      "epoch: 35  loss: 21.91020966  weight: 2.01085806  bias: 0.14463729\n",
      "epoch: 36  loss: 21.90887451  weight: 2.01087832  bias: 0.14579424\n",
      "epoch: 37  loss: 21.90753937  weight: 2.01080465  bias: 0.14694786\n",
      "epoch: 38  loss: 21.90620804  weight: 2.01079869  bias: 0.14810292\n",
      "epoch: 39  loss: 21.90487099  weight: 2.01074409  bias: 0.14925599\n",
      "epoch: 40  loss: 21.90353966  weight: 2.01072454  bias: 0.15040953\n",
      "epoch: 41  loss: 21.90221596  weight: 2.01067972  bias: 0.15156177\n",
      "epoch: 42  loss: 21.90088844  weight: 2.01065278  bias: 0.15271397\n",
      "epoch: 43  loss: 21.89955902  weight: 2.01061344  bias: 0.15386525\n",
      "epoch: 44  loss: 21.89823723  weight: 2.01058316  bias: 0.15501623\n",
      "epoch: 45  loss: 21.89691353  weight: 2.01054597  bias: 0.15616645\n",
      "epoch: 46  loss: 21.89558792  weight: 2.01051402  bias: 0.15731627\n",
      "epoch: 47  loss: 21.89426804  weight: 2.01047826  bias: 0.15846542\n",
      "epoch: 48  loss: 21.89294434  weight: 2.01044536  bias: 0.15961410\n",
      "epoch: 49  loss: 21.89162827  weight: 2.01041031  bias: 0.16076216\n",
      "epoch: 50  loss: 21.89031029  weight: 2.01037693  bias: 0.16190971\n"
     ]
    }
   ],
   "source": [
    "epochs = 50 #num passes through the dataset\n",
    "losses = []  #create data frame to store loss values\n",
    "\n",
    "for i in range(epochs):  #iterate through epochs\n",
    "    i+=1\n",
    "    y_pred = model.forward(X)   #prediction set\n",
    "    loss = criterion(y_pred, y)  #loss calculation\n",
    "    losses.append(loss.item()) #keep track of losses\n",
    "    print(f'epoch: {i:2}  loss: {loss.item():10.8f}  weight: {model.linear.weight.item():10.8f}  \\\n",
    "bias: {model.linear.bias.item():10.8f}') \n",
    "    optimizer.zero_grad()   #reset the gradient through each epoch\n",
    "    loss.backward()    #backpropagation \n",
    "    optimizer.step()   #model hyperparameters"
   ]
  },
  {
   "cell_type": "code",
   "execution_count": 209,
   "id": "5d7e543d-4bfa-4d1c-99fb-bead0653782e",
   "metadata": {},
   "outputs": [
    {
     "data": {
      "image/png": "[encoded data removed]",
      "text/plain": [
       "<Figure size 640x480 with 1 Axes>"
      ]
     },
     "metadata": {},
     "output_type": "display_data"
    }
   ],
   "source": [
    "plt.plot(range(epochs), losses)\n",
    "plt.ylabel('Loss')\n",
    "plt.xlabel('epoch');"
   ]
  },
  {
   "cell_type": "code",
   "execution_count": 211,
   "id": "ccefdf43-1b56-4e3e-8000-91bb9f9df5bf",
   "metadata": {},
   "outputs": [
    {
     "name": "stdout",
     "output_type": "stream",
     "text": [
      "Current weight: 2.01034236, Current bias: 0.16305667\n",
      "\n",
      "[ 1. 50.]\n",
      "[  2.173399 100.680176]\n"
     ]
    }
   ],
   "source": [
    "w1,b1 = model.linear.weight.item(), model.linear.bias.item()\n",
    "print(f'Current weight: {w1:.8f}, Current bias: {b1:.8f}')\n",
    "print()\n",
    "\n",
    "y1 = x1*w1 + b1\n",
    "print(x1)\n",
    "print(y1)"
   ]
  },
  {
   "cell_type": "code",
   "execution_count": 213,
   "id": "4e0992c7-38a2-44b5-96ec-117a6362d12b",
   "metadata": {},
   "outputs": [
    {
     "data": {
      "image/png": "[encoded data removed]",
      "text/plain": [
       "<Figure size 640x480 with 1 Axes>"
      ]
     },
     "metadata": {},
     "output_type": "display_data"
    }
   ],
   "source": [
    "plt.scatter(X.numpy(), y.numpy())\n",
    "plt.plot(x1,y1,'r')\n",
    "plt.title('Current Model')\n",
    "plt.ylabel('y')\n",
    "plt.xlabel('x');"
   ]
  },
  {
   "cell_type": "code",
   "execution_count": null,
   "id": "6712e69d-ed09-4d12-8897-39d6e0ef97ab",
   "metadata": {},
   "outputs": [],
   "source": []
  }
 ],
 "metadata": {
  "kernelspec": {
   "display_name": "Python 3 (ipykernel)",
   "language": "python",
   "name": "python3"
  },
  "language_info": {
   "codemirror_mode": {
    "name": "ipython",
    "version": 3
   },
   "file_extension": ".py",
   "mimetype": "text/x-python",
   "name": "python",
   "nbconvert_exporter": "python",
   "pygments_lexer": "ipython3",
   "version": "3.11.7"
  }
 },
 "nbformat": 4,
 "nbformat_minor": 5
}
