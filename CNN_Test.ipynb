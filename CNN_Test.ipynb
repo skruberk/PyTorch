{
 "cells": [
  {
   "cell_type": "code",
   "execution_count": 3,
   "id": "ef40a5d7-8e21-40c5-888b-4c6d39d030de",
   "metadata": {},
   "outputs": [],
   "source": [
    "#CNN TEST\n",
    "import numpy as np\n",
    "from scipy.signal import convolve2d\n",
    "# to read an image from a url\n",
    "from imageio import imread\n",
    "import matplotlib.pyplot as plt\n",
    "%matplotlib inline\n",
    "import matplotlib.image as mpimg\n",
    "import torch\n",
    "import torch.nn as nn\n",
    "import torch.nn.functional as F\n",
    "from torchsummary import summary\n",
    "import torchvision\n",
    "import torchvision.transforms as T\n",
    "from PIL import Image\n",
    "from torchvision.datasets import MNIST\n",
    "from torch.utils.data import DataLoader,TensorDataset\n",
    "import warnings\n",
    "warnings.filterwarnings('ignore')"
   ]
  },
  {
   "cell_type": "code",
   "execution_count": 5,
   "id": "1172591f-3d37-4259-9052-ceaef3ec392b",
   "metadata": {},
   "outputs": [],
   "source": [
    "# Define transform to normalize data\n",
    "transform = T.Compose([\n",
    "    T.ToTensor(),\n",
    "    T.Normalize((0.1307,), (0.3081,))  # Mean and std deviation for MNIST\n",
    "])\n",
    "# Load MNIST dataset with transformations\n",
    "train_dataset = MNIST(root='./data', train=True, download=False, transform=transform)\n",
    "test_dataset = MNIST(root='./data', train=False, download=False, transform=transform)"
   ]
  },
  {
   "cell_type": "code",
   "execution_count": 7,
   "id": "71d940df-b315-40e0-865b-90509c1eb999",
   "metadata": {},
   "outputs": [],
   "source": [
    "# reduce size of datasets\n",
    "train_size = int(0.05 * len(train_dataset))\n",
    "test_size = int(0.05 * len(test_dataset))\n",
    "\n",
    "# Create reduced and normalized datasets\n",
    "train_data_reduced = train_dataset.data[:train_size].float() / 255.0\n",
    "train_labels_reduced = train_dataset.targets[:train_size].long()\n",
    "\n",
    "test_data_reduced = test_dataset.data[:test_size].float() / 255.0\n",
    "test_labels_reduced = test_dataset.targets[:test_size].long()"
   ]
  },
  {
   "cell_type": "code",
   "execution_count": 9,
   "id": "cf51f527-7ce1-4400-8279-80cdb3bd96c7",
   "metadata": {},
   "outputs": [],
   "source": [
    "train_data = train_data_reduced.reshape(train_data_reduced.shape[0],1,28,28)"
   ]
  },
  {
   "cell_type": "code",
   "execution_count": 11,
   "id": "a50afba5-a2e0-4b6d-9d62-bf0fe9569b87",
   "metadata": {},
   "outputs": [],
   "source": [
    "test_data= test_data_reduced.reshape(test_data_reduced.shape[0],1,28,28)"
   ]
  },
  {
   "cell_type": "code",
   "execution_count": 13,
   "id": "81773d66-f2ff-40f8-a270-00c8b3c003bb",
   "metadata": {},
   "outputs": [
    {
     "data": {
      "text/plain": [
       "torch.Size([3000, 1, 28, 28])"
      ]
     },
     "execution_count": 13,
     "metadata": {},
     "output_type": "execute_result"
    }
   ],
   "source": [
    "train_data.shape"
   ]
  },
  {
   "cell_type": "code",
   "execution_count": 15,
   "id": "b7689dce-eb7f-478a-8537-e194e7415f55",
   "metadata": {},
   "outputs": [
    {
     "data": {
      "text/plain": [
       "torch.Size([500, 1, 28, 28])"
      ]
     },
     "execution_count": 15,
     "metadata": {},
     "output_type": "execute_result"
    }
   ],
   "source": [
    "test_data.shape"
   ]
  },
  {
   "cell_type": "code",
   "execution_count": 19,
   "id": "e2c718c4-0001-47e7-b799-d8b4a5551ebf",
   "metadata": {},
   "outputs": [],
   "source": [
    "# convert to tensor\n",
    "train_data   = torch.tensor( train_data ).float()\n",
    "train_label = torch.tensor( train_labels_reduced ).long()\n",
    "\n",
    "# pyTorch conversion\n",
    "train_data = TensorDataset(train_data,train_label)\n",
    "test_data  = TensorDataset(test_data,test_labels_reduced)\n",
    "\n",
    "# dataloader objects\n",
    "batchsize    = 32\n",
    "train_loader = DataLoader(train_data,batch_size=batchsize,shuffle=True,drop_last=True)\n",
    "test_loader  = DataLoader(test_data,batch_size=test_data.tensors[0].shape[0])"
   ]
  },
  {
   "cell_type": "code",
   "execution_count": 21,
   "id": "2e58c75d-c409-40d4-b071-ef8a05740ab4",
   "metadata": {},
   "outputs": [
    {
     "data": {
      "text/plain": [
       "torch.Size([3000, 1, 28, 28])"
      ]
     },
     "execution_count": 21,
     "metadata": {},
     "output_type": "execute_result"
    }
   ],
   "source": [
    "# size check (images, channels,  width,  height)\n",
    "train_loader.dataset.tensors[0].shape"
   ]
  },
  {
   "cell_type": "code",
   "execution_count": 57,
   "id": "438400cb-2db0-486b-9c41-28be1beb1856",
   "metadata": {},
   "outputs": [],
   "source": [
    "# create a class for the model\n",
    "def createNNmodel(printtoggle=False):\n",
    "    \n",
    "  class testNet(nn.Module):\n",
    "    def __init__(self,printtoggle):\n",
    "      super().__init__()\n",
    "\n",
    "      ### convolution layers\n",
    "      self.conv1 = nn.Conv2d( 1,10,kernel_size=5,stride=1,padding=1)\n",
    "      # size: np.floor( (28+2*1-5)/1 )+1 = 26/2 = 13 (/2 b/c maxpool)\n",
    "      self.conv2 = nn.Conv2d(10,20,kernel_size=5,stride=1,padding=1)\n",
    "      # size: np.floor( (13+2*1-5)/1 )+1 = 11/2 = 5 (/2 b/c maxpool)\n",
    "      # compute the number of units in FClayer: size of \n",
    "        #FC input calculated based on size of output of conv2 after maxpool\n",
    "      expectSize = np.floor( (5+2*0-1)/1 ) + 1 # fc1 layer has no padding or kernel, 0 or 1\n",
    "      expectSize = 20*int(expectSize**2)\n",
    "      ### fully-connected layer\n",
    "      self.fc1 = nn.Linear(expectSize,50)\n",
    "      ### output layer\n",
    "      self.out = nn.Linear(50,10)\n",
    "\n",
    "      # flag to print shape of tensors during forward pass\n",
    "      self.print = printtoggle\n",
    "\n",
    "    # forward pass\n",
    "    def forward(self,x):\n",
    "      print(f'Input: {x.shape}') if self.print else None\n",
    "      # convolution -> maxpool -> relu\n",
    "      x = F.relu(F.max_pool2d(self.conv1(x),2))\n",
    "      print(f'Layer conv1/pool1: {x.shape}') if self.print else None\n",
    "      # convolution -> maxpool -> relu\n",
    "      x = F.relu(F.max_pool2d(self.conv2(x),2))\n",
    "      print(f'Layer conv2/pool2: {x.shape}') if self.print else None\n",
    "      # reshape for linear layer\n",
    "      nUnits = x.shape.numel()/x.shape[0]\n",
    "      x = x.view(-1,int(nUnits))\n",
    "      if self.print: print(f'Vectorize: {x.shape}')\n",
    "      # linear layers\n",
    "      x = F.relu(self.fc1(x))\n",
    "      if self.print: print(f'Layer fc1: {x.shape}')\n",
    "      x = self.out(x)\n",
    "      if self.print: print(f'Layer out: {x.shape}')\n",
    "      return x\n",
    "\n",
    "  # create the model instance\n",
    "  net = testNet(printtoggle)\n",
    "\n",
    "  # loss function for classification\n",
    "  lossfun = nn.CrossEntropyLoss()\n",
    "\n",
    "  # optimizer\n",
    "  optimizer = torch.optim.Adam(net.parameters(),lr=0.001)\n",
    "\n",
    "  return net,lossfun,optimizer"
   ]
  },
  {
   "cell_type": "code",
   "execution_count": 59,
   "id": "07a6b97e-10b6-46f5-bcec-6823517f3742",
   "metadata": {},
   "outputs": [
    {
     "name": "stdout",
     "output_type": "stream",
     "text": [
      "Input: torch.Size([32, 1, 28, 28])\n",
      "Layer conv1/pool1: torch.Size([32, 10, 13, 13])\n",
      "Layer conv2/pool2: torch.Size([32, 20, 5, 5])\n",
      "Vectorize: torch.Size([32, 500])\n",
      "Layer fc1: torch.Size([32, 50])\n",
      "Layer out: torch.Size([32, 10])\n",
      " \n",
      "torch.Size([32, 10])\n",
      "torch.Size([32])\n",
      " \n",
      "Loss:\n",
      "tensor(2.3031, grad_fn=<NllLossBackward0>)\n"
     ]
    }
   ],
   "source": [
    "#one batch test\n",
    "net,lossfun,optimizer = createNNmodel(True)\n",
    "\n",
    "X,y = next(iter(train_loader))\n",
    "yHat = net(X)\n",
    "\n",
    "# check sizes of model outputs and target variable\n",
    "print(' ')\n",
    "print(yHat.shape)\n",
    "print(y.shape)\n",
    "#compute the loss\n",
    "loss = lossfun(yHat,y)\n",
    "print(' ')\n",
    "print('Loss:')\n",
    "print(loss)"
   ]
  },
  {
   "cell_type": "code",
   "execution_count": 61,
   "id": "11ef73d8-bfc4-46e3-9eaa-c23e6d84c770",
   "metadata": {},
   "outputs": [
    {
     "name": "stdout",
     "output_type": "stream",
     "text": [
      "Input: torch.Size([2, 1, 28, 28])\n",
      "Layer conv1/pool1: torch.Size([2, 10, 13, 13])\n",
      "Layer conv2/pool2: torch.Size([2, 20, 5, 5])\n",
      "Vectorize: torch.Size([2, 500])\n",
      "Layer fc1: torch.Size([2, 50])\n",
      "Layer out: torch.Size([2, 10])\n",
      "----------------------------------------------------------------\n",
      "        Layer (type)               Output Shape         Param #\n",
      "================================================================\n",
      "            Conv2d-1           [-1, 10, 26, 26]             260\n",
      "            Conv2d-2           [-1, 20, 11, 11]           5,020\n",
      "            Linear-3                   [-1, 50]          25,050\n",
      "            Linear-4                   [-1, 10]             510\n",
      "================================================================\n",
      "Total params: 30,840\n",
      "Trainable params: 30,840\n",
      "Non-trainable params: 0\n",
      "----------------------------------------------------------------\n",
      "Input size (MB): 0.00\n",
      "Forward/backward pass size (MB): 0.07\n",
      "Params size (MB): 0.12\n",
      "Estimated Total Size (MB): 0.19\n",
      "----------------------------------------------------------------\n"
     ]
    }
   ],
   "source": [
    "summary(net,(1,28,28))"
   ]
  },
  {
   "cell_type": "code",
   "execution_count": 63,
   "id": "a243ad9f-0fe8-438f-ba9b-0213f56f9350",
   "metadata": {},
   "outputs": [],
   "source": [
    "def model_train():\n",
    "\n",
    "  # number of epochs\n",
    "  numepochs = 15\n",
    "\n",
    "  # create a new model\n",
    "  net,lossfun,optimizer = createNNmodel()\n",
    "\n",
    "  # initialize losses\n",
    "  losses    = torch.zeros(numepochs)\n",
    "  trainAcc  = []\n",
    "  testAcc   = []\n",
    "\n",
    "  # loop over epochs\n",
    "  for epochs in range(numepochs):\n",
    "    # loop over training data batches\n",
    "    net.train()\n",
    "    batchAcc  = []\n",
    "    batchLoss = []\n",
    "    for X,y in train_loader:\n",
    "     # forward pass and loss\n",
    "      yHat = net(X)\n",
    "      loss = lossfun(yHat,y)\n",
    "      # backprop\n",
    "      optimizer.zero_grad()\n",
    "      loss.backward()\n",
    "      optimizer.step()\n",
    "      # loss from this batch\n",
    "      batchLoss.append(loss.item())\n",
    "      # compute accuracy\n",
    "      matches = torch.argmax(yHat,axis=1) == y     # booleans (false/true)\n",
    "      matchesNumeric = matches.float()             # convert to numbers (0/1)\n",
    "      accuracyPct = 100*torch.mean(matchesNumeric) # average and x100\n",
    "      batchAcc.append( accuracyPct )               # add to list of accuracies\n",
    "    # end of batch loop...\n",
    "\n",
    "    #  get ave training accuracy\n",
    "    trainAcc.append( np.mean(batchAcc) )\n",
    "    # and get average losses across the batches\n",
    "    losses[epochs] = np.mean(batchLoss)\n",
    "\n",
    "    # test accuracy\n",
    "    net.eval()\n",
    "    X,y = next(iter(test_loader)) # extract X,y from test dataloader\n",
    "    with torch.no_grad(): # deactivates autograd\n",
    "      yHat = net(X)\n",
    "\n",
    "    # compare with training accuracy lines\n",
    "    testAcc.append( 100*torch.mean((torch.argmax(yHat,axis=1)==y).float()) )\n",
    "\n",
    "  # end epochs\n",
    "\n",
    "  # function output\n",
    "  return trainAcc,testAcc,losses,net"
   ]
  },
  {
   "cell_type": "code",
   "execution_count": 65,
   "id": "fddd3439-2c2b-477a-85d3-f78d5dbfd860",
   "metadata": {},
   "outputs": [],
   "source": [
    "trainAcc,testAcc,losses,net = model_train()"
   ]
  },
  {
   "cell_type": "code",
   "execution_count": 67,
   "id": "7c5edd75-442b-4d9b-8ca1-fc10a7cabf5d",
   "metadata": {},
   "outputs": [
    {
     "data": {
      "image/png": "[encoded data removed]",
      "text/plain": [
       "<Figure size 1600x500 with 2 Axes>"
      ]
     },
     "metadata": {},
     "output_type": "display_data"
    }
   ],
   "source": [
    "fig,ax = plt.subplots(1,2,figsize=(16,5))\n",
    "ax[0].plot(losses,'s-')\n",
    "ax[0].set_xlabel('Epochs')\n",
    "ax[0].set_ylabel('Loss')\n",
    "ax[0].set_title('Model loss')\n",
    "ax[1].plot(trainAcc,'s-',label='Train')\n",
    "ax[1].plot(testAcc,'o-',label='Test')\n",
    "ax[1].set_xlabel('Epochs')\n",
    "ax[1].set_ylabel('Accuracy (%)')\n",
    "ax[1].set_title(f'Final model test accuracy: {testAcc[-1]:.2f}%')\n",
    "ax[1].legend()\n",
    "plt.show()"
   ]
  },
  {
   "cell_type": "code",
   "execution_count": null,
   "id": "bc7bc0fc-a0c2-4b5e-a5d8-75b3c86de465",
   "metadata": {},
   "outputs": [],
   "source": []
  }
 ],
 "metadata": {
  "kernelspec": {
   "display_name": "Python 3 (ipykernel)",
   "language": "python",
   "name": "python3"
  },
  "language_info": {
   "codemirror_mode": {
    "name": "ipython",
    "version": 3
   },
   "file_extension": ".py",
   "mimetype": "text/x-python",
   "name": "python",
   "nbconvert_exporter": "python",
   "pygments_lexer": "ipython3",
   "version": "3.11.7"
  }
 },
 "nbformat": 4,
 "nbformat_minor": 5
}
