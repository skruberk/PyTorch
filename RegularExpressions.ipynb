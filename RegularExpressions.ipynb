{
 "cells": [
  {
   "cell_type": "code",
   "execution_count": null,
   "id": "e60413a1-80f3-4cac-adb3-0e99d89ce2f1",
   "metadata": {},
   "outputs": [],
   "source": [
    "#  .  any character except a new line\n",
    "# *   0 or more repetitions\n",
    "# +   1 or more repetitions\n",
    "# ?   0 or 1 repetition\n",
    "# {m} m repetitions\n",
    "# {m,n} m-n repetitions\n",
    "# ^: Matches the start of the string.\n",
    "# $: Matches the end of the string.\n",
    "# \\d: Matches any digit; equivalent to [0-9].\n",
    "# \\D: Matches any non-digit.\n",
    "# \\w: Matches any alphanumeric character; equivalent to [a-zA-Z0-9_].\n",
    "# \\W: Matches any non-alphanumeric character.\n",
    "# \\s: Matches any whitespace character.\n",
    "# \\S: Matches any non-whitespace character."
   ]
  },
  {
   "cell_type": "code",
   "execution_count": 3,
   "id": "1c3ac5e7-17a9-4b6d-a455-cc69638a265b",
   "metadata": {},
   "outputs": [],
   "source": [
    "import re"
   ]
  },
  {
   "cell_type": "code",
   "execution_count": 5,
   "id": "4cf1e477-3074-4c44-acab-8335303aea6c",
   "metadata": {},
   "outputs": [
    {
     "name": "stdout",
     "output_type": "stream",
     "text": [
      "Pattern found (case-insensitive).\n"
     ]
    }
   ],
   "source": [
    "pattern = \"hello\"\n",
    "text = \"Hello World\"\n",
    "\n",
    "match = re.search(pattern, text, re.IGNORECASE)\n",
    "if match:\n",
    "    print(\"Pattern found (case-insensitive).\")\n",
    "else:\n",
    "    print(\"Pattern not found.\")"
   ]
  },
  {
   "cell_type": "code",
   "execution_count": 7,
   "id": "0d1d756f-eccc-40e1-a276-59da646cfbba",
   "metadata": {},
   "outputs": [
    {
     "name": "stdout",
     "output_type": "stream",
     "text": [
      "Valid phone number\n"
     ]
    }
   ],
   "source": [
    "phone = \"415-456-7890\"\n",
    "match = re.match(r\"\\d{3}-\\d{3}-\\d{4}\", phone)\n",
    "if match:\n",
    "    print(\"Valid phone number\")\n",
    "else:\n",
    "    print(\"Invalid phone number\")"
   ]
  },
  {
   "cell_type": "code",
   "execution_count": 25,
   "id": "83d9f9a6-1d2a-4a5d-b5d5-011b3d4d40b0",
   "metadata": {},
   "outputs": [
    {
     "name": "stdout",
     "output_type": "stream",
     "text": [
      "aaaa\n"
     ]
    }
   ],
   "source": [
    "pattern = \"a*\"\n",
    "text = \"aaaab\"\n",
    "match = re.search(pattern, text)\n",
    "print(match.group()) "
   ]
  },
  {
   "cell_type": "code",
   "execution_count": null,
   "id": "fb43d764-93f0-4a2d-bfbf-98c30b30f609",
   "metadata": {},
   "outputs": [],
   "source": []
  }
 ],
 "metadata": {
  "kernelspec": {
   "display_name": "Python 3 (ipykernel)",
   "language": "python",
   "name": "python3"
  },
  "language_info": {
   "codemirror_mode": {
    "name": "ipython",
    "version": 3
   },
   "file_extension": ".py",
   "mimetype": "text/x-python",
   "name": "python",
   "nbconvert_exporter": "python",
   "pygments_lexer": "ipython3",
   "version": "3.11.7"
  }
 },
 "nbformat": 4,
 "nbformat_minor": 5
}
